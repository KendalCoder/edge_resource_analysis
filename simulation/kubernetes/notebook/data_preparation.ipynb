{
 "cells": [
  {
   "cell_type": "markdown",
   "metadata": {},
   "source": [
    "# Understand Scientific Workloads in Sage\n",
    "This Python notebook shows how to pull data from Sage for workloads that are being run on Sage nodes."
   ]
  },
  {
   "cell_type": "code",
   "execution_count": 17,
   "metadata": {},
   "outputs": [],
   "source": [
    "import time\n",
    "import pandas as pd\n",
    "import matplotlib.pyplot as plt\n",
    "from sage_data_client import query\n",
    "from scipy.integrate import simps\n",
    "\n",
    "import utils"
   ]
  },
  {
   "cell_type": "code",
   "execution_count": 18,
   "metadata": {},
   "outputs": [],
   "source": [
    "vsn = \"W0B1\"\n",
    "# This is the time we enabled collecting tegrastats every second\n",
    "# Before, it was every 10 seconds\n",
    "# This is the start and end time for the wildfire workload\n",
    "# start = \"2025-03-27T03:00:00Z\"\n",
    "# end = \"2025-03-27T12:59:59Z\"\n",
    "\n",
    "start = \"2025-03-27T18:30:00Z\"\n",
    "end = \"2025-03-27T22:59:59Z\"\n",
    "\n",
    "\n",
    "# The workload name can be found in\n",
    "# https://portal.sagecontinuum.org/jobs/all-jobs?job=2376\n",
    "# workload_name = \"wildfire-smoke-w0b1node\"\n",
    "target_device = \"core\"\n",
    "workload_name = \"cloud-cover-core\"\n",
    "\n",
    "\n",
    "# workload_name = \"wildfire-smoke-core\"\n",
    "# target_device = \"core\"\n",
    "\n",
    "# workload_name = \"wildfire-smoke-rpi\"\n",
    "# target_device = \"rpi\""
   ]
  },
  {
   "cell_type": "code",
   "execution_count": 19,
   "metadata": {},
   "outputs": [
    {
     "name": "stderr",
     "output_type": "stream",
     "text": [
      "/home/theone/repo/edge_resource_analysis/simulation/kubernetes/notebook/utils.py:58: FutureWarning: Passing literal json to 'read_json' is deprecated and will be removed in a future version. To read from a literal string, wrap it in a 'StringIO' object.\n",
      "  return pd.read_json(json.dumps(v))\n"
     ]
    }
   ],
   "source": [
    "all_workloads= utils.fill_completion_failure(\n",
    "    utils.parse_events(\n",
    "        utils.get_data(\n",
    "            \"W0B1\",\n",
    "            start=start,\n",
    "            end=end)))"
   ]
  },
  {
   "cell_type": "code",
   "execution_count": 20,
   "metadata": {},
   "outputs": [
    {
     "data": {
      "text/plain": [
       "array(['cloud-cover-core', 'wildfire-smoke-w0b1node',\n",
       "       'avian-diversity-w0b1node', 'motion-detection-w0b1-with-gpu',\n",
       "       'motion-analysis-w0b1node', 'traffic-state-w0b1node',\n",
       "       'cloud-cover-w0b1node'], dtype=object)"
      ]
     },
     "execution_count": 20,
     "metadata": {},
     "output_type": "execute_result"
    }
   ],
   "source": [
    "all_workloads[\"plugin_name\"].unique()"
   ]
  },
  {
   "cell_type": "code",
   "execution_count": 21,
   "metadata": {},
   "outputs": [],
   "source": [
    "workloads = all_workloads[all_workloads[\"plugin_name\"] == workload_name]\n",
    "workloads = workloads[workloads[\"end_state\"] == \"completed\"]"
   ]
  },
  {
   "cell_type": "code",
   "execution_count": 22,
   "metadata": {},
   "outputs": [
    {
     "data": {
      "text/html": [
       "<div>\n",
       "<style scoped>\n",
       "    .dataframe tbody tr th:only-of-type {\n",
       "        vertical-align: middle;\n",
       "    }\n",
       "\n",
       "    .dataframe tbody tr th {\n",
       "        vertical-align: top;\n",
       "    }\n",
       "\n",
       "    .dataframe thead th {\n",
       "        text-align: right;\n",
       "    }\n",
       "</style>\n",
       "<table border=\"1\" class=\"dataframe\">\n",
       "  <thead>\n",
       "    <tr style=\"text-align: right;\">\n",
       "      <th></th>\n",
       "      <th>goal_id</th>\n",
       "      <th>k3s_pod_instance</th>\n",
       "      <th>k3s_pod_name</th>\n",
       "      <th>k3s_pod_node_name</th>\n",
       "      <th>k3s_pod_status</th>\n",
       "      <th>k3s_pod_uid</th>\n",
       "      <th>plugin_args</th>\n",
       "      <th>plugin_image</th>\n",
       "      <th>plugin_name</th>\n",
       "      <th>plugin_selector</th>\n",
       "      <th>...</th>\n",
       "      <th>vsn</th>\n",
       "      <th>event</th>\n",
       "      <th>message</th>\n",
       "      <th>reason</th>\n",
       "      <th>error_log</th>\n",
       "      <th>return_code</th>\n",
       "      <th>completed_at</th>\n",
       "      <th>execution_time</th>\n",
       "      <th>end_state</th>\n",
       "      <th>failed_at</th>\n",
       "    </tr>\n",
       "  </thead>\n",
       "  <tbody>\n",
       "    <tr>\n",
       "      <th>2899</th>\n",
       "      <td>46bf3533-0f63-42f3-4c96-52966a00df9c</td>\n",
       "      <td>cloud-cover-core-QImQGQ</td>\n",
       "      <td>cloud-cover-core-2861</td>\n",
       "      <td>000048b02dd3c5e0.ws-nxcore</td>\n",
       "      <td>Pending</td>\n",
       "      <td>0f009065-f131-459e-9ed3-6ad0e500da4f</td>\n",
       "      <td>-stream top_camera</td>\n",
       "      <td>registry.sagecontinuum.org/seonghapark/cloud-c...</td>\n",
       "      <td>cloud-cover-core</td>\n",
       "      <td>{\"zone\":\"core\"}</td>\n",
       "      <td>...</td>\n",
       "      <td>W0B1</td>\n",
       "      <td>sys.scheduler.status.plugin.launched</td>\n",
       "      <td>NaN</td>\n",
       "      <td>NaN</td>\n",
       "      <td>NaN</td>\n",
       "      <td>NaN</td>\n",
       "      <td>2025-03-27 18:31:41.338550228+00:00</td>\n",
       "      <td>98.249284</td>\n",
       "      <td>completed</td>\n",
       "      <td>NaT</td>\n",
       "    </tr>\n",
       "    <tr>\n",
       "      <th>2914</th>\n",
       "      <td>46bf3533-0f63-42f3-4c96-52966a00df9c</td>\n",
       "      <td>cloud-cover-core-KpUCOv</td>\n",
       "      <td>cloud-cover-core-2861</td>\n",
       "      <td>000048b02dd3c5e0.ws-nxcore</td>\n",
       "      <td>Pending</td>\n",
       "      <td>bfb4ecfa-d4b5-4424-a7c1-e6fca7c85f71</td>\n",
       "      <td>-stream top_camera</td>\n",
       "      <td>registry.sagecontinuum.org/seonghapark/cloud-c...</td>\n",
       "      <td>cloud-cover-core</td>\n",
       "      <td>{\"zone\":\"core\"}</td>\n",
       "      <td>...</td>\n",
       "      <td>W0B1</td>\n",
       "      <td>sys.scheduler.status.plugin.launched</td>\n",
       "      <td>NaN</td>\n",
       "      <td>NaN</td>\n",
       "      <td>NaN</td>\n",
       "      <td>NaN</td>\n",
       "      <td>2025-03-27 18:41:42.447954364+00:00</td>\n",
       "      <td>99.399158</td>\n",
       "      <td>completed</td>\n",
       "      <td>NaT</td>\n",
       "    </tr>\n",
       "    <tr>\n",
       "      <th>2931</th>\n",
       "      <td>46bf3533-0f63-42f3-4c96-52966a00df9c</td>\n",
       "      <td>cloud-cover-core-OJWQzg</td>\n",
       "      <td>cloud-cover-core-2861</td>\n",
       "      <td>000048b02dd3c5e0.ws-nxcore</td>\n",
       "      <td>Pending</td>\n",
       "      <td>4a445de2-f73d-4371-bf38-23f4053fdd6e</td>\n",
       "      <td>-stream top_camera</td>\n",
       "      <td>registry.sagecontinuum.org/seonghapark/cloud-c...</td>\n",
       "      <td>cloud-cover-core</td>\n",
       "      <td>{\"zone\":\"core\"}</td>\n",
       "      <td>...</td>\n",
       "      <td>W0B1</td>\n",
       "      <td>sys.scheduler.status.plugin.launched</td>\n",
       "      <td>NaN</td>\n",
       "      <td>NaN</td>\n",
       "      <td>NaN</td>\n",
       "      <td>NaN</td>\n",
       "      <td>2025-03-27 18:51:39.361465209+00:00</td>\n",
       "      <td>96.244606</td>\n",
       "      <td>completed</td>\n",
       "      <td>NaT</td>\n",
       "    </tr>\n",
       "    <tr>\n",
       "      <th>2946</th>\n",
       "      <td>46bf3533-0f63-42f3-4c96-52966a00df9c</td>\n",
       "      <td>cloud-cover-core-aR0jRn</td>\n",
       "      <td>cloud-cover-core-2861</td>\n",
       "      <td>000048b02dd3c5e0.ws-nxcore</td>\n",
       "      <td>Pending</td>\n",
       "      <td>6f98ac4d-6abd-4a42-b376-6c2e32a493c1</td>\n",
       "      <td>-stream top_camera</td>\n",
       "      <td>registry.sagecontinuum.org/seonghapark/cloud-c...</td>\n",
       "      <td>cloud-cover-core</td>\n",
       "      <td>{\"zone\":\"core\"}</td>\n",
       "      <td>...</td>\n",
       "      <td>W0B1</td>\n",
       "      <td>sys.scheduler.status.plugin.launched</td>\n",
       "      <td>NaN</td>\n",
       "      <td>NaN</td>\n",
       "      <td>NaN</td>\n",
       "      <td>NaN</td>\n",
       "      <td>2025-03-27 19:01:38.260846800+00:00</td>\n",
       "      <td>95.184326</td>\n",
       "      <td>completed</td>\n",
       "      <td>NaT</td>\n",
       "    </tr>\n",
       "    <tr>\n",
       "      <th>2963</th>\n",
       "      <td>46bf3533-0f63-42f3-4c96-52966a00df9c</td>\n",
       "      <td>cloud-cover-core-xMOMbF</td>\n",
       "      <td>cloud-cover-core-2861</td>\n",
       "      <td>000048b02dd3c5e0.ws-nxcore</td>\n",
       "      <td>Pending</td>\n",
       "      <td>f8a02d9f-d19f-47a0-90f4-6a6940d0e4f9</td>\n",
       "      <td>-stream top_camera</td>\n",
       "      <td>registry.sagecontinuum.org/seonghapark/cloud-c...</td>\n",
       "      <td>cloud-cover-core</td>\n",
       "      <td>{\"zone\":\"core\"}</td>\n",
       "      <td>...</td>\n",
       "      <td>W0B1</td>\n",
       "      <td>sys.scheduler.status.plugin.launched</td>\n",
       "      <td>NaN</td>\n",
       "      <td>NaN</td>\n",
       "      <td>NaN</td>\n",
       "      <td>NaN</td>\n",
       "      <td>2025-03-27 19:11:38.251078422+00:00</td>\n",
       "      <td>95.187258</td>\n",
       "      <td>completed</td>\n",
       "      <td>NaT</td>\n",
       "    </tr>\n",
       "  </tbody>\n",
       "</table>\n",
       "<p>5 rows × 24 columns</p>\n",
       "</div>"
      ],
      "text/plain": [
       "                                   goal_id         k3s_pod_instance  \\\n",
       "2899  46bf3533-0f63-42f3-4c96-52966a00df9c  cloud-cover-core-QImQGQ   \n",
       "2914  46bf3533-0f63-42f3-4c96-52966a00df9c  cloud-cover-core-KpUCOv   \n",
       "2931  46bf3533-0f63-42f3-4c96-52966a00df9c  cloud-cover-core-OJWQzg   \n",
       "2946  46bf3533-0f63-42f3-4c96-52966a00df9c  cloud-cover-core-aR0jRn   \n",
       "2963  46bf3533-0f63-42f3-4c96-52966a00df9c  cloud-cover-core-xMOMbF   \n",
       "\n",
       "               k3s_pod_name           k3s_pod_node_name k3s_pod_status  \\\n",
       "2899  cloud-cover-core-2861  000048b02dd3c5e0.ws-nxcore        Pending   \n",
       "2914  cloud-cover-core-2861  000048b02dd3c5e0.ws-nxcore        Pending   \n",
       "2931  cloud-cover-core-2861  000048b02dd3c5e0.ws-nxcore        Pending   \n",
       "2946  cloud-cover-core-2861  000048b02dd3c5e0.ws-nxcore        Pending   \n",
       "2963  cloud-cover-core-2861  000048b02dd3c5e0.ws-nxcore        Pending   \n",
       "\n",
       "                               k3s_pod_uid         plugin_args  \\\n",
       "2899  0f009065-f131-459e-9ed3-6ad0e500da4f  -stream top_camera   \n",
       "2914  bfb4ecfa-d4b5-4424-a7c1-e6fca7c85f71  -stream top_camera   \n",
       "2931  4a445de2-f73d-4371-bf38-23f4053fdd6e  -stream top_camera   \n",
       "2946  6f98ac4d-6abd-4a42-b376-6c2e32a493c1  -stream top_camera   \n",
       "2963  f8a02d9f-d19f-47a0-90f4-6a6940d0e4f9  -stream top_camera   \n",
       "\n",
       "                                           plugin_image       plugin_name  \\\n",
       "2899  registry.sagecontinuum.org/seonghapark/cloud-c...  cloud-cover-core   \n",
       "2914  registry.sagecontinuum.org/seonghapark/cloud-c...  cloud-cover-core   \n",
       "2931  registry.sagecontinuum.org/seonghapark/cloud-c...  cloud-cover-core   \n",
       "2946  registry.sagecontinuum.org/seonghapark/cloud-c...  cloud-cover-core   \n",
       "2963  registry.sagecontinuum.org/seonghapark/cloud-c...  cloud-cover-core   \n",
       "\n",
       "      plugin_selector  ...   vsn                                 event  \\\n",
       "2899  {\"zone\":\"core\"}  ...  W0B1  sys.scheduler.status.plugin.launched   \n",
       "2914  {\"zone\":\"core\"}  ...  W0B1  sys.scheduler.status.plugin.launched   \n",
       "2931  {\"zone\":\"core\"}  ...  W0B1  sys.scheduler.status.plugin.launched   \n",
       "2946  {\"zone\":\"core\"}  ...  W0B1  sys.scheduler.status.plugin.launched   \n",
       "2963  {\"zone\":\"core\"}  ...  W0B1  sys.scheduler.status.plugin.launched   \n",
       "\n",
       "     message reason error_log return_code                        completed_at  \\\n",
       "2899     NaN    NaN       NaN         NaN 2025-03-27 18:31:41.338550228+00:00   \n",
       "2914     NaN    NaN       NaN         NaN 2025-03-27 18:41:42.447954364+00:00   \n",
       "2931     NaN    NaN       NaN         NaN 2025-03-27 18:51:39.361465209+00:00   \n",
       "2946     NaN    NaN       NaN         NaN 2025-03-27 19:01:38.260846800+00:00   \n",
       "2963     NaN    NaN       NaN         NaN 2025-03-27 19:11:38.251078422+00:00   \n",
       "\n",
       "     execution_time  end_state  failed_at  \n",
       "2899      98.249284  completed        NaT  \n",
       "2914      99.399158  completed        NaT  \n",
       "2931      96.244606  completed        NaT  \n",
       "2946      95.184326  completed        NaT  \n",
       "2963      95.187258  completed        NaT  \n",
       "\n",
       "[5 rows x 24 columns]"
      ]
     },
     "execution_count": 22,
     "metadata": {},
     "output_type": "execute_result"
    }
   ],
   "source": [
    "workloads.head()"
   ]
  },
  {
   "cell_type": "markdown",
   "metadata": {},
   "source": [
    "## Overview of the Wildfire Workload"
   ]
  },
  {
   "cell_type": "code",
   "execution_count": 23,
   "metadata": {},
   "outputs": [
    {
     "name": "stdout",
     "output_type": "stream",
     "text": [
      "Node: W0B1\n",
      "Time window: 2025-03-27T18:30:00Z - 2025-03-27T22:59:59Z\n",
      "Number of successful execution: 20\n",
      "Averaged execution time: 96.15 seconds\n",
      "Devices used to run the workload: ['000048b02dd3c5e0.ws-nxcore']\n"
     ]
    }
   ],
   "source": [
    "print(f'Node: {vsn}')\n",
    "print(f'Time window: {start} - {end}')\n",
    "print(f'Number of successful execution: {len(workloads)}')\n",
    "print(f'Averaged execution time: {workloads[\"execution_time\"].mean():.2f} seconds')\n",
    "print(f'Devices used to run the workload: {workloads[\"k3s_pod_node_name\"].unique()}')"
   ]
  },
  {
   "cell_type": "markdown",
   "metadata": {},
   "source": [
    "## Pull Node Performance Data from the Sage"
   ]
  },
  {
   "cell_type": "code",
   "execution_count": 24,
   "metadata": {},
   "outputs": [],
   "source": [
    "# Load the RPi stats if the target device is an RPi\n",
    "if target_device == \"rpi\":\n",
    "    rpistats = pd.read_csv(\"data/rpistats.csv\")\n",
    "    rpistats[\"timestamp\"] = pd.to_datetime(rpistats[\"timestamp\"]*1e9, utc=True)\n",
    "\n",
    "def get_rpistats(start, end):\n",
    "    out = rpistats[(rpistats[\"timestamp\"] >= start - pd.Timedelta(2, unit=\"s\")) & (rpistats[\"timestamp\"] <= end)]\n",
    "    out[\"power_app\"] = out[\"rpi_power\"] - out[\"rpi_power\"].min()\n",
    "    return out"
   ]
  },
  {
   "cell_type": "code",
   "execution_count": 25,
   "metadata": {},
   "outputs": [],
   "source": [
    "def get_nxstats(start, end, device_name):\n",
    "    out = utils.get_node_performance_data(\n",
    "        vsn=vsn,\n",
    "        metric=\"tegra_wattage_current_milliwatts\",\n",
    "        start=(start - pd.Timedelta(2, unit=\"s\")).strftime(\"%Y-%m-%dT%H:%M:%SZ\"),\n",
    "        end=end.strftime(\"%Y-%m-%dT%H:%M:%SZ\")\n",
    "    )\n",
    "    if out.empty:\n",
    "        return out\n",
    "    out[\"value\"] = out[\"value\"] / 1000 # to watts\n",
    "    out = out[out[\"meta.hostname\"].str.contains(device_name)]\n",
    "    out_vdd_in = out[out[\"meta.sensor\"] == \"vdd_in\"]\n",
    "    print(f\"Found {len(out)} records for 'vdd_in' in {start} - {end}\")\n",
    "    out_vdd_in[\"power_app\"] = out_vdd_in[\"value\"] - out_vdd_in[\"value\"].min()\n",
    "    return out_vdd_in"
   ]
  },
  {
   "cell_type": "code",
   "execution_count": 26,
   "metadata": {},
   "outputs": [],
   "source": [
    "def calculate_energy(df, name):\n",
    "    if name not in df.columns:\n",
    "        raise Exception(f\"Column '{name}' not found in the dataframe {df.columns}\")\n",
    "    time_deltas = (df[\"timestamp\"] - df[\"timestamp\"].min()).dt.total_seconds()\n",
    "    if len(df[name]) != time_deltas.shape[0]:\n",
    "        raise Exception(f\"Length of {len(df[name])} and time_deltas {time_deltas.shape[0]} are not the same\")\n",
    "    integral = simps(df[name], time_deltas.to_list())\n",
    "    return integral, time_deltas.iloc[-1]"
   ]
  },
  {
   "cell_type": "code",
   "execution_count": 27,
   "metadata": {},
   "outputs": [
    {
     "name": "stdout",
     "output_type": "stream",
     "text": [
      "Workload: cloud-cover-core\n",
      "Found 300 records for 'vdd_in' in 2025-03-27 18:30:03.089266220+00:00 - 2025-03-27 18:31:41.338550228+00:00\n"
     ]
    },
    {
     "name": "stderr",
     "output_type": "stream",
     "text": [
      "/tmp/ipykernel_14225/1568625051.py:7: DeprecationWarning: 'scipy.integrate.simps' is deprecated in favour of 'scipy.integrate.simpson' and will be removed in SciPy 1.14.0\n",
      "  integral = simps(df[name], time_deltas.to_list())\n"
     ]
    },
    {
     "name": "stdout",
     "output_type": "stream",
     "text": [
      "Found 303 records for 'vdd_in' in 2025-03-27 18:40:03.048796085+00:00 - 2025-03-27 18:41:42.447954364+00:00\n"
     ]
    },
    {
     "name": "stderr",
     "output_type": "stream",
     "text": [
      "/tmp/ipykernel_14225/1568625051.py:7: DeprecationWarning: 'scipy.integrate.simps' is deprecated in favour of 'scipy.integrate.simpson' and will be removed in SciPy 1.14.0\n",
      "  integral = simps(df[name], time_deltas.to_list())\n"
     ]
    },
    {
     "name": "stdout",
     "output_type": "stream",
     "text": [
      "Found 294 records for 'vdd_in' in 2025-03-27 18:50:03.116859004+00:00 - 2025-03-27 18:51:39.361465209+00:00\n"
     ]
    },
    {
     "name": "stderr",
     "output_type": "stream",
     "text": [
      "/tmp/ipykernel_14225/1568625051.py:7: DeprecationWarning: 'scipy.integrate.simps' is deprecated in favour of 'scipy.integrate.simpson' and will be removed in SciPy 1.14.0\n",
      "  integral = simps(df[name], time_deltas.to_list())\n"
     ]
    },
    {
     "name": "stdout",
     "output_type": "stream",
     "text": [
      "Found 291 records for 'vdd_in' in 2025-03-27 19:00:03.076520349+00:00 - 2025-03-27 19:01:38.260846800+00:00\n"
     ]
    },
    {
     "name": "stderr",
     "output_type": "stream",
     "text": [
      "/tmp/ipykernel_14225/1568625051.py:7: DeprecationWarning: 'scipy.integrate.simps' is deprecated in favour of 'scipy.integrate.simpson' and will be removed in SciPy 1.14.0\n",
      "  integral = simps(df[name], time_deltas.to_list())\n"
     ]
    },
    {
     "name": "stdout",
     "output_type": "stream",
     "text": [
      "Found 291 records for 'vdd_in' in 2025-03-27 19:10:03.063819930+00:00 - 2025-03-27 19:11:38.251078422+00:00\n"
     ]
    },
    {
     "name": "stderr",
     "output_type": "stream",
     "text": [
      "/tmp/ipykernel_14225/1568625051.py:7: DeprecationWarning: 'scipy.integrate.simps' is deprecated in favour of 'scipy.integrate.simpson' and will be removed in SciPy 1.14.0\n",
      "  integral = simps(df[name], time_deltas.to_list())\n"
     ]
    },
    {
     "name": "stdout",
     "output_type": "stream",
     "text": [
      "Found 294 records for 'vdd_in' in 2025-03-27 19:20:03.074424741+00:00 - 2025-03-27 19:21:39.261296473+00:00\n"
     ]
    },
    {
     "name": "stderr",
     "output_type": "stream",
     "text": [
      "/tmp/ipykernel_14225/1568625051.py:7: DeprecationWarning: 'scipy.integrate.simps' is deprecated in favour of 'scipy.integrate.simpson' and will be removed in SciPy 1.14.0\n",
      "  integral = simps(df[name], time_deltas.to_list())\n"
     ]
    },
    {
     "name": "stdout",
     "output_type": "stream",
     "text": [
      "Found 291 records for 'vdd_in' in 2025-03-27 19:30:03.086551406+00:00 - 2025-03-27 19:31:38.290141396+00:00\n"
     ]
    },
    {
     "name": "stderr",
     "output_type": "stream",
     "text": [
      "/tmp/ipykernel_14225/1568625051.py:7: DeprecationWarning: 'scipy.integrate.simps' is deprecated in favour of 'scipy.integrate.simpson' and will be removed in SciPy 1.14.0\n",
      "  integral = simps(df[name], time_deltas.to_list())\n"
     ]
    },
    {
     "name": "stdout",
     "output_type": "stream",
     "text": [
      "Found 288 records for 'vdd_in' in 2025-03-27 19:40:03.075172391+00:00 - 2025-03-27 19:41:37.326250346+00:00\n"
     ]
    },
    {
     "name": "stderr",
     "output_type": "stream",
     "text": [
      "/tmp/ipykernel_14225/1568625051.py:7: DeprecationWarning: 'scipy.integrate.simps' is deprecated in favour of 'scipy.integrate.simpson' and will be removed in SciPy 1.14.0\n",
      "  integral = simps(df[name], time_deltas.to_list())\n"
     ]
    },
    {
     "name": "stdout",
     "output_type": "stream",
     "text": [
      "Found 294 records for 'vdd_in' in 2025-03-27 19:50:03.085940034+00:00 - 2025-03-27 19:51:39.200911823+00:00\n"
     ]
    },
    {
     "name": "stderr",
     "output_type": "stream",
     "text": [
      "/tmp/ipykernel_14225/1568625051.py:7: DeprecationWarning: 'scipy.integrate.simps' is deprecated in favour of 'scipy.integrate.simpson' and will be removed in SciPy 1.14.0\n",
      "  integral = simps(df[name], time_deltas.to_list())\n"
     ]
    },
    {
     "name": "stdout",
     "output_type": "stream",
     "text": [
      "Found 291 records for 'vdd_in' in 2025-03-27 20:00:03.090302942+00:00 - 2025-03-27 20:01:38.113668711+00:00\n"
     ]
    },
    {
     "name": "stderr",
     "output_type": "stream",
     "text": [
      "/tmp/ipykernel_14225/1568625051.py:7: DeprecationWarning: 'scipy.integrate.simps' is deprecated in favour of 'scipy.integrate.simpson' and will be removed in SciPy 1.14.0\n",
      "  integral = simps(df[name], time_deltas.to_list())\n"
     ]
    },
    {
     "name": "stdout",
     "output_type": "stream",
     "text": [
      "Found 297 records for 'vdd_in' in 2025-03-27 20:10:03.064894947+00:00 - 2025-03-27 20:11:40.075436249+00:00\n"
     ]
    },
    {
     "name": "stderr",
     "output_type": "stream",
     "text": [
      "/tmp/ipykernel_14225/1568625051.py:7: DeprecationWarning: 'scipy.integrate.simps' is deprecated in favour of 'scipy.integrate.simpson' and will be removed in SciPy 1.14.0\n",
      "  integral = simps(df[name], time_deltas.to_list())\n"
     ]
    },
    {
     "name": "stdout",
     "output_type": "stream",
     "text": [
      "Found 285 records for 'vdd_in' in 2025-03-27 20:20:23.052106911+00:00 - 2025-03-27 20:21:56.246541036+00:00\n"
     ]
    },
    {
     "name": "stderr",
     "output_type": "stream",
     "text": [
      "/tmp/ipykernel_14225/1568625051.py:7: DeprecationWarning: 'scipy.integrate.simps' is deprecated in favour of 'scipy.integrate.simpson' and will be removed in SciPy 1.14.0\n",
      "  integral = simps(df[name], time_deltas.to_list())\n"
     ]
    },
    {
     "name": "stdout",
     "output_type": "stream",
     "text": [
      "Found 294 records for 'vdd_in' in 2025-03-27 20:30:03.044844646+00:00 - 2025-03-27 20:31:39.110675558+00:00\n"
     ]
    },
    {
     "name": "stderr",
     "output_type": "stream",
     "text": [
      "/tmp/ipykernel_14225/1568625051.py:7: DeprecationWarning: 'scipy.integrate.simps' is deprecated in favour of 'scipy.integrate.simpson' and will be removed in SciPy 1.14.0\n",
      "  integral = simps(df[name], time_deltas.to_list())\n"
     ]
    },
    {
     "name": "stdout",
     "output_type": "stream",
     "text": [
      "Found 297 records for 'vdd_in' in 2025-03-27 20:40:03.055299195+00:00 - 2025-03-27 20:41:40.190002732+00:00\n"
     ]
    },
    {
     "name": "stderr",
     "output_type": "stream",
     "text": [
      "/tmp/ipykernel_14225/1568625051.py:7: DeprecationWarning: 'scipy.integrate.simps' is deprecated in favour of 'scipy.integrate.simpson' and will be removed in SciPy 1.14.0\n",
      "  integral = simps(df[name], time_deltas.to_list())\n"
     ]
    },
    {
     "name": "stdout",
     "output_type": "stream",
     "text": [
      "Found 300 records for 'vdd_in' in 2025-03-27 20:50:03.072584689+00:00 - 2025-03-27 20:51:41.231505976+00:00\n"
     ]
    },
    {
     "name": "stderr",
     "output_type": "stream",
     "text": [
      "/tmp/ipykernel_14225/1568625051.py:7: DeprecationWarning: 'scipy.integrate.simps' is deprecated in favour of 'scipy.integrate.simpson' and will be removed in SciPy 1.14.0\n",
      "  integral = simps(df[name], time_deltas.to_list())\n"
     ]
    },
    {
     "name": "stdout",
     "output_type": "stream",
     "text": [
      "Found 288 records for 'vdd_in' in 2025-03-27 21:00:03.049437844+00:00 - 2025-03-27 21:01:37.007776925+00:00\n"
     ]
    },
    {
     "name": "stderr",
     "output_type": "stream",
     "text": [
      "/tmp/ipykernel_14225/1568625051.py:7: DeprecationWarning: 'scipy.integrate.simps' is deprecated in favour of 'scipy.integrate.simpson' and will be removed in SciPy 1.14.0\n",
      "  integral = simps(df[name], time_deltas.to_list())\n"
     ]
    },
    {
     "name": "stdout",
     "output_type": "stream",
     "text": [
      "Found 297 records for 'vdd_in' in 2025-03-27 21:10:03.101953823+00:00 - 2025-03-27 21:11:40.962978049+00:00\n"
     ]
    },
    {
     "name": "stderr",
     "output_type": "stream",
     "text": [
      "/tmp/ipykernel_14225/1568625051.py:7: DeprecationWarning: 'scipy.integrate.simps' is deprecated in favour of 'scipy.integrate.simpson' and will be removed in SciPy 1.14.0\n",
      "  integral = simps(df[name], time_deltas.to_list())\n"
     ]
    },
    {
     "name": "stdout",
     "output_type": "stream",
     "text": [
      "Found 288 records for 'vdd_in' in 2025-03-27 21:20:03.073916569+00:00 - 2025-03-27 21:21:37.965831228+00:00\n"
     ]
    },
    {
     "name": "stderr",
     "output_type": "stream",
     "text": [
      "/tmp/ipykernel_14225/1568625051.py:7: DeprecationWarning: 'scipy.integrate.simps' is deprecated in favour of 'scipy.integrate.simpson' and will be removed in SciPy 1.14.0\n",
      "  integral = simps(df[name], time_deltas.to_list())\n"
     ]
    },
    {
     "name": "stdout",
     "output_type": "stream",
     "text": [
      "Found 291 records for 'vdd_in' in 2025-03-27 21:30:03.094555921+00:00 - 2025-03-27 21:31:38.905879079+00:00\n"
     ]
    },
    {
     "name": "stderr",
     "output_type": "stream",
     "text": [
      "/tmp/ipykernel_14225/1568625051.py:7: DeprecationWarning: 'scipy.integrate.simps' is deprecated in favour of 'scipy.integrate.simpson' and will be removed in SciPy 1.14.0\n",
      "  integral = simps(df[name], time_deltas.to_list())\n"
     ]
    },
    {
     "name": "stdout",
     "output_type": "stream",
     "text": [
      "Found 297 records for 'vdd_in' in 2025-03-27 21:40:03.085982035+00:00 - 2025-03-27 21:41:40.960542430+00:00\n"
     ]
    },
    {
     "name": "stderr",
     "output_type": "stream",
     "text": [
      "/tmp/ipykernel_14225/1568625051.py:7: DeprecationWarning: 'scipy.integrate.simps' is deprecated in favour of 'scipy.integrate.simpson' and will be removed in SciPy 1.14.0\n",
      "  integral = simps(df[name], time_deltas.to_list())\n"
     ]
    }
   ],
   "source": [
    "print(f\"Workload: {workload_name}\")\n",
    "energy_list = []\n",
    "for _, instance in workloads.iterrows():\n",
    "    start = instance[\"timestamp\"]\n",
    "    end = instance[\"completed_at\"]\n",
    "    if target_device == \"rpi\":\n",
    "        stat_df = get_rpistats(start, end)\n",
    "    else:\n",
    "        stat_df = get_nxstats(start, end, target_device)\n",
    "\n",
    "    if stat_df.empty:\n",
    "        print(f\"Skipping {instance['k3s_pod_instance']} as no data found\")\n",
    "        continue\n",
    "    energy_j, execution_time = calculate_energy(stat_df, \"power_app\")\n",
    "\n",
    "    if energy_j < 0:\n",
    "        print(f\"Skipping {instance['k3s_pod_instance']} {start} - {end} as negative energy found\")\n",
    "        continue\n",
    "    energy_list.append(energy_j)\n",
    "    time.sleep(0.2)\n",
    "    # print(f\"  Energy consumption ({instance['k3s_pod_instance']}): {energy_j:.2f} J ({energy_j / 3600:.2f} Wh) over {execution_time} seconds\")\n",
    "energy_df = pd.DataFrame(energy_list, columns=[\"energy_j\"])"
   ]
  },
  {
   "cell_type": "code",
   "execution_count": 28,
   "metadata": {},
   "outputs": [
    {
     "data": {
      "text/html": [
       "<div>\n",
       "<style scoped>\n",
       "    .dataframe tbody tr th:only-of-type {\n",
       "        vertical-align: middle;\n",
       "    }\n",
       "\n",
       "    .dataframe tbody tr th {\n",
       "        vertical-align: top;\n",
       "    }\n",
       "\n",
       "    .dataframe thead th {\n",
       "        text-align: right;\n",
       "    }\n",
       "</style>\n",
       "<table border=\"1\" class=\"dataframe\">\n",
       "  <thead>\n",
       "    <tr style=\"text-align: right;\">\n",
       "      <th></th>\n",
       "      <th>energy_j</th>\n",
       "    </tr>\n",
       "  </thead>\n",
       "  <tbody>\n",
       "    <tr>\n",
       "      <th>count</th>\n",
       "      <td>20.000000</td>\n",
       "    </tr>\n",
       "    <tr>\n",
       "      <th>mean</th>\n",
       "      <td>65.930020</td>\n",
       "    </tr>\n",
       "    <tr>\n",
       "      <th>std</th>\n",
       "      <td>16.755908</td>\n",
       "    </tr>\n",
       "    <tr>\n",
       "      <th>min</th>\n",
       "      <td>37.426446</td>\n",
       "    </tr>\n",
       "    <tr>\n",
       "      <th>25%</th>\n",
       "      <td>54.166884</td>\n",
       "    </tr>\n",
       "    <tr>\n",
       "      <th>50%</th>\n",
       "      <td>64.088656</td>\n",
       "    </tr>\n",
       "    <tr>\n",
       "      <th>75%</th>\n",
       "      <td>79.986620</td>\n",
       "    </tr>\n",
       "    <tr>\n",
       "      <th>max</th>\n",
       "      <td>97.858774</td>\n",
       "    </tr>\n",
       "  </tbody>\n",
       "</table>\n",
       "</div>"
      ],
      "text/plain": [
       "        energy_j\n",
       "count  20.000000\n",
       "mean   65.930020\n",
       "std    16.755908\n",
       "min    37.426446\n",
       "25%    54.166884\n",
       "50%    64.088656\n",
       "75%    79.986620\n",
       "max    97.858774"
      ]
     },
     "execution_count": 28,
     "metadata": {},
     "output_type": "execute_result"
    }
   ],
   "source": [
    "energy_df.describe()"
   ]
  },
  {
   "cell_type": "code",
   "execution_count": 29,
   "metadata": {},
   "outputs": [
    {
     "name": "stdout",
     "output_type": "stream",
     "text": [
      "Found 48 records for 'vdd_in' in 2025-03-27 07:20:04+00:00 - 2025-03-27 07:20:41+00:00\n",
      "energy_j: -49.821312499999955, execution_time: 38.0\n"
     ]
    },
    {
     "name": "stderr",
     "output_type": "stream",
     "text": [
      "/tmp/ipykernel_14225/1568625051.py:7: DeprecationWarning: 'scipy.integrate.simps' is deprecated in favour of 'scipy.integrate.simpson' and will be removed in SciPy 1.14.0\n",
      "  integral = simps(df[name], time_deltas.to_list())\n"
     ]
    }
   ],
   "source": [
    "# This has records leading to negative energy consumption\n",
    "# 2025-03-27 07:20:04.666907162+00:00 - 2025-03-27 07:20:40.406656623+00:00\n",
    "s = \"2025-03-27T07:20:04Z\"\n",
    "e = \"2025-03-27T07:20:41Z\"\n",
    "df = get_nxstats(pd.to_datetime(s), pd.to_datetime(e), target_device)\n",
    "energy_j, execution_time = calculate_energy(df, \"power_app\")\n",
    "print(f\"energy_j: {energy_j}, execution_time: {execution_time}\")"
   ]
  },
  {
   "cell_type": "code",
   "execution_count": 30,
   "metadata": {},
   "outputs": [
    {
     "data": {
      "text/plain": [
       "16     0.0\n",
       "17     1.0\n",
       "18     2.0\n",
       "19     3.0\n",
       "20     4.0\n",
       "21     5.0\n",
       "22     6.0\n",
       "23     7.0\n",
       "24     8.0\n",
       "25     9.0\n",
       "26    10.0\n",
       "27    11.0\n",
       "28    35.0\n",
       "29    36.0\n",
       "30    37.0\n",
       "31    38.0\n",
       "Name: timestamp, dtype: float64"
      ]
     },
     "execution_count": 30,
     "metadata": {},
     "output_type": "execute_result"
    }
   ],
   "source": [
    "(df[\"timestamp\"] - df[\"timestamp\"].min()).dt.total_seconds()"
   ]
  },
  {
   "cell_type": "code",
   "execution_count": 31,
   "metadata": {},
   "outputs": [
    {
     "ename": "NameError",
     "evalue": "name 'workload_instance' is not defined",
     "output_type": "error",
     "traceback": [
      "\u001b[0;31m---------------------------------------------------------------------------\u001b[0m",
      "\u001b[0;31mNameError\u001b[0m                                 Traceback (most recent call last)",
      "Cell \u001b[0;32mIn[31], line 4\u001b[0m\n\u001b[1;32m      1\u001b[0m power_consumption \u001b[38;5;241m=\u001b[39m utils\u001b[38;5;241m.\u001b[39mget_node_performance_data(\n\u001b[1;32m      2\u001b[0m     vsn\u001b[38;5;241m=\u001b[39mvsn,\n\u001b[1;32m      3\u001b[0m     metric\u001b[38;5;241m=\u001b[39m\u001b[38;5;124m\"\u001b[39m\u001b[38;5;124mtegra_wattage_current_milliwatts\u001b[39m\u001b[38;5;124m\"\u001b[39m,\n\u001b[0;32m----> 4\u001b[0m     start\u001b[38;5;241m=\u001b[39m(\u001b[43mworkload_instance\u001b[49m\u001b[38;5;241m.\u001b[39mtimestamp \u001b[38;5;241m-\u001b[39m pd\u001b[38;5;241m.\u001b[39mTimedelta(\u001b[38;5;241m10\u001b[39m, unit\u001b[38;5;241m=\u001b[39m\u001b[38;5;124m\"\u001b[39m\u001b[38;5;124ms\u001b[39m\u001b[38;5;124m\"\u001b[39m))\u001b[38;5;241m.\u001b[39mstrftime(\u001b[38;5;124m\"\u001b[39m\u001b[38;5;124m%\u001b[39m\u001b[38;5;124mY-\u001b[39m\u001b[38;5;124m%\u001b[39m\u001b[38;5;124mm-\u001b[39m\u001b[38;5;132;01m%d\u001b[39;00m\u001b[38;5;124mT\u001b[39m\u001b[38;5;124m%\u001b[39m\u001b[38;5;124mH:\u001b[39m\u001b[38;5;124m%\u001b[39m\u001b[38;5;124mM:\u001b[39m\u001b[38;5;124m%\u001b[39m\u001b[38;5;124mSZ\u001b[39m\u001b[38;5;124m\"\u001b[39m),\n\u001b[1;32m      5\u001b[0m     end\u001b[38;5;241m=\u001b[39mworkload_instance\u001b[38;5;241m.\u001b[39mcompleted_at\u001b[38;5;241m.\u001b[39mstrftime(\u001b[38;5;124m\"\u001b[39m\u001b[38;5;124m%\u001b[39m\u001b[38;5;124mY-\u001b[39m\u001b[38;5;124m%\u001b[39m\u001b[38;5;124mm-\u001b[39m\u001b[38;5;132;01m%d\u001b[39;00m\u001b[38;5;124mT\u001b[39m\u001b[38;5;124m%\u001b[39m\u001b[38;5;124mH:\u001b[39m\u001b[38;5;124m%\u001b[39m\u001b[38;5;124mM:\u001b[39m\u001b[38;5;124m%\u001b[39m\u001b[38;5;124mSZ\u001b[39m\u001b[38;5;124m\"\u001b[39m)\n\u001b[1;32m      6\u001b[0m )\n",
      "\u001b[0;31mNameError\u001b[0m: name 'workload_instance' is not defined"
     ]
    }
   ],
   "source": [
    "power_consumption = utils.get_node_performance_data(\n",
    "    vsn=vsn,\n",
    "    metric=\"tegra_wattage_current_milliwatts\",\n",
    "    start=(workload_instance.timestamp - pd.Timedelta(10, unit=\"s\")).strftime(\"%Y-%m-%dT%H:%M:%SZ\"),\n",
    "    end=workload_instance.completed_at.strftime(\"%Y-%m-%dT%H:%M:%SZ\")\n",
    ")"
   ]
  },
  {
   "cell_type": "code",
   "execution_count": null,
   "metadata": {},
   "outputs": [
    {
     "data": {
      "text/html": [
       "<div>\n",
       "<style scoped>\n",
       "    .dataframe tbody tr th:only-of-type {\n",
       "        vertical-align: middle;\n",
       "    }\n",
       "\n",
       "    .dataframe tbody tr th {\n",
       "        vertical-align: top;\n",
       "    }\n",
       "\n",
       "    .dataframe thead th {\n",
       "        text-align: right;\n",
       "    }\n",
       "</style>\n",
       "<table border=\"1\" class=\"dataframe\">\n",
       "  <thead>\n",
       "    <tr style=\"text-align: right;\">\n",
       "      <th></th>\n",
       "      <th>timestamp</th>\n",
       "      <th>name</th>\n",
       "      <th>value</th>\n",
       "      <th>meta.cluster</th>\n",
       "      <th>meta.container</th>\n",
       "      <th>meta.endpoint</th>\n",
       "      <th>meta.host</th>\n",
       "      <th>meta.hostname</th>\n",
       "      <th>meta.instance</th>\n",
       "      <th>meta.job</th>\n",
       "      <th>meta.metrics_path</th>\n",
       "      <th>meta.namespace</th>\n",
       "      <th>meta.pod</th>\n",
       "      <th>meta.sensor</th>\n",
       "      <th>meta.vsn</th>\n",
       "    </tr>\n",
       "  </thead>\n",
       "  <tbody>\n",
       "    <tr>\n",
       "      <th>0</th>\n",
       "      <td>2025-03-27 03:00:32.077000+00:00</td>\n",
       "      <td>tegra_wattage_current_milliwatts</td>\n",
       "      <td>3349</td>\n",
       "      <td>default/grafana-agent</td>\n",
       "      <td>jetson-exporter</td>\n",
       "      <td>9101</td>\n",
       "      <td>beehive-grafana-agent-loader-64fccdc84b-6hnl5</td>\n",
       "      <td>000048b02dd3c5e0.ws-nxcore</td>\n",
       "      <td>10.42.0.238:9101</td>\n",
       "      <td>integrations/kubernetes/pod</td>\n",
       "      <td>/metrics</td>\n",
       "      <td>default</td>\n",
       "      <td>wes-jetson-exporter-wh2n9</td>\n",
       "      <td>vdd_cpu_gpu_cv</td>\n",
       "      <td>W0B1</td>\n",
       "    </tr>\n",
       "    <tr>\n",
       "      <th>1</th>\n",
       "      <td>2025-03-27 03:00:33.077000+00:00</td>\n",
       "      <td>tegra_wattage_current_milliwatts</td>\n",
       "      <td>3349</td>\n",
       "      <td>default/grafana-agent</td>\n",
       "      <td>jetson-exporter</td>\n",
       "      <td>9101</td>\n",
       "      <td>beehive-grafana-agent-loader-64fccdc84b-6hnl5</td>\n",
       "      <td>000048b02dd3c5e0.ws-nxcore</td>\n",
       "      <td>10.42.0.238:9101</td>\n",
       "      <td>integrations/kubernetes/pod</td>\n",
       "      <td>/metrics</td>\n",
       "      <td>default</td>\n",
       "      <td>wes-jetson-exporter-wh2n9</td>\n",
       "      <td>vdd_cpu_gpu_cv</td>\n",
       "      <td>W0B1</td>\n",
       "    </tr>\n",
       "    <tr>\n",
       "      <th>2</th>\n",
       "      <td>2025-03-27 03:00:34.077000+00:00</td>\n",
       "      <td>tegra_wattage_current_milliwatts</td>\n",
       "      <td>3189</td>\n",
       "      <td>default/grafana-agent</td>\n",
       "      <td>jetson-exporter</td>\n",
       "      <td>9101</td>\n",
       "      <td>beehive-grafana-agent-loader-64fccdc84b-6hnl5</td>\n",
       "      <td>000048b02dd3c5e0.ws-nxcore</td>\n",
       "      <td>10.42.0.238:9101</td>\n",
       "      <td>integrations/kubernetes/pod</td>\n",
       "      <td>/metrics</td>\n",
       "      <td>default</td>\n",
       "      <td>wes-jetson-exporter-wh2n9</td>\n",
       "      <td>vdd_cpu_gpu_cv</td>\n",
       "      <td>W0B1</td>\n",
       "    </tr>\n",
       "    <tr>\n",
       "      <th>3</th>\n",
       "      <td>2025-03-27 03:00:35.077000+00:00</td>\n",
       "      <td>tegra_wattage_current_milliwatts</td>\n",
       "      <td>3189</td>\n",
       "      <td>default/grafana-agent</td>\n",
       "      <td>jetson-exporter</td>\n",
       "      <td>9101</td>\n",
       "      <td>beehive-grafana-agent-loader-64fccdc84b-6hnl5</td>\n",
       "      <td>000048b02dd3c5e0.ws-nxcore</td>\n",
       "      <td>10.42.0.238:9101</td>\n",
       "      <td>integrations/kubernetes/pod</td>\n",
       "      <td>/metrics</td>\n",
       "      <td>default</td>\n",
       "      <td>wes-jetson-exporter-wh2n9</td>\n",
       "      <td>vdd_cpu_gpu_cv</td>\n",
       "      <td>W0B1</td>\n",
       "    </tr>\n",
       "    <tr>\n",
       "      <th>4</th>\n",
       "      <td>2025-03-27 03:00:36.077000+00:00</td>\n",
       "      <td>tegra_wattage_current_milliwatts</td>\n",
       "      <td>3189</td>\n",
       "      <td>default/grafana-agent</td>\n",
       "      <td>jetson-exporter</td>\n",
       "      <td>9101</td>\n",
       "      <td>beehive-grafana-agent-loader-64fccdc84b-6hnl5</td>\n",
       "      <td>000048b02dd3c5e0.ws-nxcore</td>\n",
       "      <td>10.42.0.238:9101</td>\n",
       "      <td>integrations/kubernetes/pod</td>\n",
       "      <td>/metrics</td>\n",
       "      <td>default</td>\n",
       "      <td>wes-jetson-exporter-wh2n9</td>\n",
       "      <td>vdd_cpu_gpu_cv</td>\n",
       "      <td>W0B1</td>\n",
       "    </tr>\n",
       "  </tbody>\n",
       "</table>\n",
       "</div>"
      ],
      "text/plain": [
       "                         timestamp                              name  value  \\\n",
       "0 2025-03-27 03:00:32.077000+00:00  tegra_wattage_current_milliwatts   3349   \n",
       "1 2025-03-27 03:00:33.077000+00:00  tegra_wattage_current_milliwatts   3349   \n",
       "2 2025-03-27 03:00:34.077000+00:00  tegra_wattage_current_milliwatts   3189   \n",
       "3 2025-03-27 03:00:35.077000+00:00  tegra_wattage_current_milliwatts   3189   \n",
       "4 2025-03-27 03:00:36.077000+00:00  tegra_wattage_current_milliwatts   3189   \n",
       "\n",
       "            meta.cluster   meta.container meta.endpoint  \\\n",
       "0  default/grafana-agent  jetson-exporter          9101   \n",
       "1  default/grafana-agent  jetson-exporter          9101   \n",
       "2  default/grafana-agent  jetson-exporter          9101   \n",
       "3  default/grafana-agent  jetson-exporter          9101   \n",
       "4  default/grafana-agent  jetson-exporter          9101   \n",
       "\n",
       "                                       meta.host               meta.hostname  \\\n",
       "0  beehive-grafana-agent-loader-64fccdc84b-6hnl5  000048b02dd3c5e0.ws-nxcore   \n",
       "1  beehive-grafana-agent-loader-64fccdc84b-6hnl5  000048b02dd3c5e0.ws-nxcore   \n",
       "2  beehive-grafana-agent-loader-64fccdc84b-6hnl5  000048b02dd3c5e0.ws-nxcore   \n",
       "3  beehive-grafana-agent-loader-64fccdc84b-6hnl5  000048b02dd3c5e0.ws-nxcore   \n",
       "4  beehive-grafana-agent-loader-64fccdc84b-6hnl5  000048b02dd3c5e0.ws-nxcore   \n",
       "\n",
       "      meta.instance                     meta.job meta.metrics_path  \\\n",
       "0  10.42.0.238:9101  integrations/kubernetes/pod          /metrics   \n",
       "1  10.42.0.238:9101  integrations/kubernetes/pod          /metrics   \n",
       "2  10.42.0.238:9101  integrations/kubernetes/pod          /metrics   \n",
       "3  10.42.0.238:9101  integrations/kubernetes/pod          /metrics   \n",
       "4  10.42.0.238:9101  integrations/kubernetes/pod          /metrics   \n",
       "\n",
       "  meta.namespace                   meta.pod     meta.sensor meta.vsn  \n",
       "0        default  wes-jetson-exporter-wh2n9  vdd_cpu_gpu_cv     W0B1  \n",
       "1        default  wes-jetson-exporter-wh2n9  vdd_cpu_gpu_cv     W0B1  \n",
       "2        default  wes-jetson-exporter-wh2n9  vdd_cpu_gpu_cv     W0B1  \n",
       "3        default  wes-jetson-exporter-wh2n9  vdd_cpu_gpu_cv     W0B1  \n",
       "4        default  wes-jetson-exporter-wh2n9  vdd_cpu_gpu_cv     W0B1  "
      ]
     },
     "execution_count": 79,
     "metadata": {},
     "output_type": "execute_result"
    }
   ],
   "source": [
    "power_consumption.head()"
   ]
  },
  {
   "cell_type": "code",
   "execution_count": null,
   "metadata": {},
   "outputs": [],
   "source": [
    "power_consumption[\"value\"] = power_consumption[\"value\"] / 1000"
   ]
  },
  {
   "cell_type": "code",
   "execution_count": null,
   "metadata": {},
   "outputs": [],
   "source": [
    "power_consumption = power_consumption[power_consumption[\"meta.hostname\"].str.contains(\"nxcore\")]"
   ]
  },
  {
   "cell_type": "code",
   "execution_count": null,
   "metadata": {},
   "outputs": [
    {
     "data": {
      "text/plain": [
       "array(['vdd_cpu_gpu_cv', 'vdd_in', 'vdd_soc'], dtype=object)"
      ]
     },
     "execution_count": 82,
     "metadata": {},
     "output_type": "execute_result"
    }
   ],
   "source": [
    "power_consumption[\"meta.sensor\"].unique()"
   ]
  },
  {
   "cell_type": "code",
   "execution_count": null,
   "metadata": {},
   "outputs": [
    {
     "data": {
      "text/plain": [
       "<Axes: title={'center': 'Power consumption (W)'}, xlabel='timestamp'>"
      ]
     },
     "execution_count": 83,
     "metadata": {},
     "output_type": "execute_result"
    },
    {
     "data": {
      "image/png": "[encoded data removed]",
      "text/plain": [
       "<Figure size 640x480 with 1 Axes>"
      ]
     },
     "metadata": {},
     "output_type": "display_data"
    }
   ],
   "source": [
    "power_consumption[power_consumption[\"meta.sensor\"] == \"vdd_in\"].plot(x=\"timestamp\", y=\"value\", title=\"Power consumption (W)\")\n",
    "# power_consumption[power_consumption[\"meta.sensor\"] == \"vdd_in\"].describe()"
   ]
  },
  {
   "cell_type": "code",
   "execution_count": null,
   "metadata": {},
   "outputs": [],
   "source": [
    "total_power_consumption = power_consumption[power_consumption[\"meta.sensor\"] == \"vdd_in\"]\n",
    "total_power_consumption[\"total_power_app\"] = total_power_consumption[\"value\"] - total_power_consumption[\"value\"].min()"
   ]
  },
  {
   "cell_type": "code",
   "execution_count": null,
   "metadata": {},
   "outputs": [
    {
     "data": {
      "text/plain": [
       "<Axes: title={'center': 'Power consumption by the app(W)'}, xlabel='timestamp'>"
      ]
     },
     "execution_count": 66,
     "metadata": {},
     "output_type": "execute_result"
    },
    {
     "data": {
      "image/png": "[encoded data removed]",
      "text/plain": [
       "<Figure size 640x480 with 1 Axes>"
      ]
     },
     "metadata": {},
     "output_type": "display_data"
    }
   ],
   "source": [
    "total_power_consumption.plot(x=\"timestamp\", y=\"total_power_app\", title=\"Power consumption by the app(W)\")"
   ]
  },
  {
   "cell_type": "code",
   "execution_count": null,
   "metadata": {},
   "outputs": [
    {
     "name": "stdout",
     "output_type": "stream",
     "text": [
      "Total energy consumption: 45.8836917739051 J (0.012745469937195861 Wh) over 57.0 seconds\n"
     ]
    },
    {
     "name": "stderr",
     "output_type": "stream",
     "text": [
      "/tmp/ipykernel_7961/1368809943.py:2: DeprecationWarning: 'scipy.integrate.simps' is deprecated in favour of 'scipy.integrate.simpson' and will be removed in SciPy 1.14.0\n",
      "  integral = simps(total_power_consumption[\"total_power_app\"], time_deltas.to_list())\n"
     ]
    }
   ],
   "source": [
    "time_deltas = (total_power_consumption[\"timestamp\"] - total_power_consumption[\"timestamp\"].min()).dt.total_seconds()\n",
    "integral = simps(total_power_consumption[\"total_power_app\"], time_deltas.to_list())\n",
    "# grouped = df.groupby(\"timestamp\")[[\"total_power_app\"]].mean()  # Exclude timestamp from aggregation\n",
    "# # Calculate the integral of total_power_app over time\n",
    "# timestamps = pd.to_datetime(grouped.index)\n",
    "# time_deltas = (timestamps - timestamps.min()).total_seconds()\n",
    "# integral = simps(grouped[\"total_power_app\"], time_deltas)\n",
    "print(f\"Total energy consumption: {integral} J ({integral / 3600} Wh) over {time_deltas.iloc[-1]} seconds\")"
   ]
  },
  {
   "cell_type": "code",
   "execution_count": null,
   "metadata": {},
   "outputs": [],
   "source": [
    "memory_consumption = utils.get_node_performance_data(\n",
    "    vsn=vsn,\n",
    "    metric=\"container_memory_working_set_bytes\",\n",
    "    start=workload_instance.timestamp.strftime(\"%Y-%m-%dT%H:%M:%SZ\"),\n",
    "    end=workload_instance.completed_at.strftime(\"%Y-%m-%dT%H:%M:%SZ\")\n",
    ")"
   ]
  },
  {
   "cell_type": "code",
   "execution_count": null,
   "metadata": {},
   "outputs": [
    {
     "data": {
      "text/plain": [
       "array(['config-reloader', 'coredns', 'grafana-agent', 'jetson-exporter',\n",
       "       'local-path-provisioner', 'metrics-server', 'node-exporter',\n",
       "       'operator', 'wes-app-meta-cache', 'wes-audio-server',\n",
       "       'wes-data-sharing-service', 'wes-device-labeler', 'wes-factory',\n",
       "       'wes-gps-server', 'wes-iio-bme280', 'wes-iio-bme680',\n",
       "       'wes-metrics-agent', 'wes-node-influxdb',\n",
       "       'wes-node-influxdb-loader', 'wes-plugin-scheduler', 'wes-rabbitmq',\n",
       "       'wes-raingauge', 'wes-sciencerule-checker', 'wes-scoreboard',\n",
       "       'wes-upload-agent', 'wildfire-smoke-w0b1node', nan], dtype=object)"
      ]
     },
     "execution_count": 60,
     "metadata": {},
     "output_type": "execute_result"
    }
   ],
   "source": [
    "memory_consumption[\"meta.container\"].unique()"
   ]
  },
  {
   "cell_type": "code",
   "execution_count": null,
   "metadata": {},
   "outputs": [],
   "source": [
    "memory_consumption = memory_consumption[memory_consumption[\"meta.pod\"] == \"wildfire-smoke-w0b1node-2376\"]\n",
    "memory_consumption = memory_consumption[memory_consumption[\"meta.container\"] == \"wildfire-smoke-w0b1node\"]"
   ]
  },
  {
   "cell_type": "code",
   "execution_count": null,
   "metadata": {},
   "outputs": [
    {
     "data": {
      "text/plain": [
       "<Axes: title={'center': 'Memory consumption (bytes)'}, xlabel='timestamp'>"
      ]
     },
     "execution_count": 62,
     "metadata": {},
     "output_type": "execute_result"
    },
    {
     "data": {
      "image/png": "[encoded data removed]",
      "text/plain": [
       "<Figure size 640x480 with 1 Axes>"
      ]
     },
     "metadata": {},
     "output_type": "display_data"
    }
   ],
   "source": [
    "memory_consumption.plot(x=\"timestamp\", y=\"value\", title=\"Memory consumption (bytes)\")"
   ]
  },
  {
   "cell_type": "code",
   "execution_count": null,
   "metadata": {},
   "outputs": [],
   "source": [
    "vsn = \"W0B1\"\n",
    "# This is the time we enabled collecting tegrastats every second\n",
    "# Before, it was every 10 seconds\n",
    "start = \"2025-03-26T23:35:00Z\"\n",
    "end=\"2025-03-26T21:59:59Z\"\n",
    "\n",
    "# The workload name can be found in\n",
    "# https://portal.sagecontinuum.org/jobs/all-jobs?job=2861\n",
    "workload_name = \"wildfire-smoke-test\""
   ]
  },
  {
   "cell_type": "code",
   "execution_count": null,
   "metadata": {},
   "outputs": [],
   "source": [
    "csv_data = pd.read_csv(\"data/rpistats.backup.csv\")\n",
    "csv_data[\"timestamp\"] = pd.to_datetime(csv_data[\"timestamp\"]*1e9, utc=True)"
   ]
  },
  {
   "cell_type": "code",
   "execution_count": null,
   "metadata": {},
   "outputs": [
    {
     "data": {
      "text/html": [
       "<div>\n",
       "<style scoped>\n",
       "    .dataframe tbody tr th:only-of-type {\n",
       "        vertical-align: middle;\n",
       "    }\n",
       "\n",
       "    .dataframe tbody tr th {\n",
       "        vertical-align: top;\n",
       "    }\n",
       "\n",
       "    .dataframe thead th {\n",
       "        text-align: right;\n",
       "    }\n",
       "</style>\n",
       "<table border=\"1\" class=\"dataframe\">\n",
       "  <thead>\n",
       "    <tr style=\"text-align: right;\">\n",
       "      <th></th>\n",
       "      <th>timestamp</th>\n",
       "      <th>rpi_power</th>\n",
       "    </tr>\n",
       "  </thead>\n",
       "  <tbody>\n",
       "    <tr>\n",
       "      <th>0</th>\n",
       "      <td>2025-03-27 02:36:32.864999936+00:00</td>\n",
       "      <td>3.71</td>\n",
       "    </tr>\n",
       "    <tr>\n",
       "      <th>1</th>\n",
       "      <td>2025-03-27 02:36:34.009999872+00:00</td>\n",
       "      <td>3.71</td>\n",
       "    </tr>\n",
       "    <tr>\n",
       "      <th>2</th>\n",
       "      <td>2025-03-27 02:36:35.211000064+00:00</td>\n",
       "      <td>3.64</td>\n",
       "    </tr>\n",
       "    <tr>\n",
       "      <th>3</th>\n",
       "      <td>2025-03-27 02:36:36.340000+00:00</td>\n",
       "      <td>3.64</td>\n",
       "    </tr>\n",
       "    <tr>\n",
       "      <th>4</th>\n",
       "      <td>2025-03-27 02:36:37.472999936+00:00</td>\n",
       "      <td>3.64</td>\n",
       "    </tr>\n",
       "  </tbody>\n",
       "</table>\n",
       "</div>"
      ],
      "text/plain": [
       "                            timestamp  rpi_power\n",
       "0 2025-03-27 02:36:32.864999936+00:00       3.71\n",
       "1 2025-03-27 02:36:34.009999872+00:00       3.71\n",
       "2 2025-03-27 02:36:35.211000064+00:00       3.64\n",
       "3    2025-03-27 02:36:36.340000+00:00       3.64\n",
       "4 2025-03-27 02:36:37.472999936+00:00       3.64"
      ]
     },
     "execution_count": 25,
     "metadata": {},
     "output_type": "execute_result"
    }
   ],
   "source": [
    "csv_data.head()"
   ]
  },
  {
   "cell_type": "code",
   "execution_count": null,
   "metadata": {},
   "outputs": [
    {
     "data": {
      "text/html": [
       "<div>\n",
       "<style scoped>\n",
       "    .dataframe tbody tr th:only-of-type {\n",
       "        vertical-align: middle;\n",
       "    }\n",
       "\n",
       "    .dataframe tbody tr th {\n",
       "        vertical-align: top;\n",
       "    }\n",
       "\n",
       "    .dataframe thead th {\n",
       "        text-align: right;\n",
       "    }\n",
       "</style>\n",
       "<table border=\"1\" class=\"dataframe\">\n",
       "  <thead>\n",
       "    <tr style=\"text-align: right;\">\n",
       "      <th></th>\n",
       "      <th>timestamp</th>\n",
       "      <th>rpi_power</th>\n",
       "      <th>rpi_power_app</th>\n",
       "    </tr>\n",
       "  </thead>\n",
       "  <tbody>\n",
       "    <tr>\n",
       "      <th>1191</th>\n",
       "      <td>2025-03-27 02:59:59.936999936+00:00</td>\n",
       "      <td>3.71</td>\n",
       "      <td>0.00</td>\n",
       "    </tr>\n",
       "    <tr>\n",
       "      <th>1192</th>\n",
       "      <td>2025-03-27 03:00:01.104000+00:00</td>\n",
       "      <td>3.71</td>\n",
       "      <td>0.00</td>\n",
       "    </tr>\n",
       "    <tr>\n",
       "      <th>1193</th>\n",
       "      <td>2025-03-27 03:00:02.229000192+00:00</td>\n",
       "      <td>3.71</td>\n",
       "      <td>0.00</td>\n",
       "    </tr>\n",
       "    <tr>\n",
       "      <th>1194</th>\n",
       "      <td>2025-03-27 03:00:03.360000+00:00</td>\n",
       "      <td>4.35</td>\n",
       "      <td>0.64</td>\n",
       "    </tr>\n",
       "    <tr>\n",
       "      <th>1195</th>\n",
       "      <td>2025-03-27 03:00:04.576000+00:00</td>\n",
       "      <td>4.35</td>\n",
       "      <td>0.64</td>\n",
       "    </tr>\n",
       "  </tbody>\n",
       "</table>\n",
       "</div>"
      ],
      "text/plain": [
       "                               timestamp  rpi_power  rpi_power_app\n",
       "1191 2025-03-27 02:59:59.936999936+00:00       3.71           0.00\n",
       "1192    2025-03-27 03:00:01.104000+00:00       3.71           0.00\n",
       "1193 2025-03-27 03:00:02.229000192+00:00       3.71           0.00\n",
       "1194    2025-03-27 03:00:03.360000+00:00       4.35           0.64\n",
       "1195    2025-03-27 03:00:04.576000+00:00       4.35           0.64"
      ]
     },
     "execution_count": 38,
     "metadata": {},
     "output_type": "execute_result"
    }
   ],
   "source": [
    "filtered_data = csv_data[(csv_data['timestamp'] >= workload_instance.timestamp - pd.Timedelta(5, unit=\"s\")) & (csv_data['timestamp'] <= workload_instance.completed_at)]\n",
    "filtered_data[\"rpi_power_app\"] = filtered_data[\"rpi_power\"] - filtered_data[\"rpi_power\"].min()\n",
    "filtered_data.head()"
   ]
  },
  {
   "cell_type": "code",
   "execution_count": null,
   "metadata": {},
   "outputs": [
    {
     "data": {
      "text/plain": [
       "<Axes: title={'center': 'Power consumption (W)'}, xlabel='timestamp'>"
      ]
     },
     "execution_count": 39,
     "metadata": {},
     "output_type": "execute_result"
    },
    {
     "data": {
      "image/png": "[encoded data removed]",
      "text/plain": [
       "<Figure size 640x480 with 1 Axes>"
      ]
     },
     "metadata": {},
     "output_type": "display_data"
    }
   ],
   "source": [
    "filtered_data.plot(x=\"timestamp\", y=\"rpi_power_app\", title=\"Power consumption (W)\")"
   ]
  },
  {
   "cell_type": "code",
   "execution_count": null,
   "metadata": {},
   "outputs": [
    {
     "name": "stdout",
     "output_type": "stream",
     "text": [
      "Total energy consumption: 180.3020952572008 J (0.05008391534922244 Wh) over 64.106000128 seconds\n"
     ]
    },
    {
     "name": "stderr",
     "output_type": "stream",
     "text": [
      "/tmp/ipykernel_7961/1684373693.py:2: DeprecationWarning: 'scipy.integrate.simps' is deprecated in favour of 'scipy.integrate.simpson' and will be removed in SciPy 1.14.0\n",
      "  integral = simps(filtered_data[\"rpi_power_app\"], time_deltas.to_list())\n"
     ]
    }
   ],
   "source": [
    "time_deltas = (filtered_data[\"timestamp\"] - filtered_data[\"timestamp\"].min()).dt.total_seconds()\n",
    "integral = simps(filtered_data[\"rpi_power_app\"], time_deltas.to_list())\n",
    "# grouped = df.groupby(\"timestamp\")[[\"total_power_app\"]].mean()  # Exclude timestamp from aggregation\n",
    "# # Calculate the integral of total_power_app over time\n",
    "# timestamps = pd.to_datetime(grouped.index)\n",
    "# time_deltas = (timestamps - timestamps.min()).total_seconds()\n",
    "# integral = simps(grouped[\"total_power_app\"], time_deltas)\n",
    "print(f\"Total energy consumption: {integral} J ({integral / 3600} Wh) over {time_deltas.iloc[-1]} seconds\")"
   ]
  }
 ],
 "metadata": {
  "kernelspec": {
   "display_name": "Python 3",
   "language": "python",
   "name": "python3"
  },
  "language_info": {
   "codemirror_mode": {
    "name": "ipython",
    "version": 3
   },
   "file_extension": ".py",
   "mimetype": "text/x-python",
   "name": "python",
   "nbconvert_exporter": "python",
   "pygments_lexer": "ipython3",
   "version": "3.10.12"
  }
 },
 "nbformat": 4,
 "nbformat_minor": 2
}
